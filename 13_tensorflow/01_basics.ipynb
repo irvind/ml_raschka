{
 "cells": [
  {
   "cell_type": "code",
   "execution_count": 1,
   "id": "f7cb01b7-4a35-4e3d-ba4f-d6a2cc91e70d",
   "metadata": {
    "tags": []
   },
   "outputs": [],
   "source": [
    "# import os\n",
    "# os.environ['TF_CPP_MIN_LOG_LEVEL'] = '2'\n",
    "\n",
    "import tensorflow as tf\n",
    "import numpy as np\n",
    "np.set_printoptions(precision=3)\n",
    "# tf.config.threading.set_inter_op_parallelism_threads(8)"
   ]
  },
  {
   "cell_type": "code",
   "execution_count": 2,
   "id": "063caedd-7295-478a-b726-6844005c1168",
   "metadata": {
    "tags": []
   },
   "outputs": [
    {
     "data": {
      "text/plain": [
       "[PhysicalDevice(name='/physical_device:GPU:0', device_type='GPU')]"
      ]
     },
     "execution_count": 2,
     "metadata": {},
     "output_type": "execute_result"
    }
   ],
   "source": [
    "tf.config.list_physical_devices('GPU')"
   ]
  },
  {
   "cell_type": "code",
   "execution_count": null,
   "id": "174618c5-cd1d-479f-bfa0-d4cfc0808774",
   "metadata": {
    "tags": []
   },
   "outputs": [],
   "source": [
    "# Uncomment to log device usage info\n",
    "# tf.debugging.set_log_device_placement(True)"
   ]
  },
  {
   "cell_type": "code",
   "execution_count": 6,
   "id": "ce3f0d58-7066-41e8-9a8d-703a0cc41b69",
   "metadata": {
    "tags": []
   },
   "outputs": [
    {
     "data": {
      "text/plain": [
       "(<tf.Tensor: shape=(2, 3), dtype=float32, numpy=\n",
       " array([[1., 2., 3.],\n",
       "        [4., 5., 6.]], dtype=float32)>,\n",
       " <tf.Tensor: shape=(3, 2), dtype=float32, numpy=\n",
       " array([[1., 2.],\n",
       "        [3., 4.],\n",
       "        [5., 6.]], dtype=float32)>,\n",
       " <tf.Tensor: shape=(2, 2), dtype=float32, numpy=\n",
       " array([[22., 28.],\n",
       "        [49., 64.]], dtype=float32)>)"
      ]
     },
     "execution_count": 6,
     "metadata": {},
     "output_type": "execute_result"
    }
   ],
   "source": [
    "# Create some tensors\n",
    "a = tf.constant([[1.0, 2.0, 3.0],\n",
    "                 [4.0, 5.0, 6.0]])\n",
    "b = tf.constant([[1.0, 2.0],\n",
    "                 [3.0, 4.0],\n",
    "                 [5.0, 6.0]])\n",
    "# Matric multiplication\n",
    "c = tf.matmul(a, b)\n",
    "a, b, c"
   ]
  },
  {
   "cell_type": "code",
   "execution_count": 4,
   "id": "45433406-aabc-4a89-b0d6-3e1cd9b75c20",
   "metadata": {
    "tags": []
   },
   "outputs": [
    {
     "data": {
      "text/plain": [
       "(<tf.Tensor: shape=(3,), dtype=int32, numpy=array([1, 2, 3])>,\n",
       " <tf.Tensor: shape=(3,), dtype=int32, numpy=array([4, 5, 6])>)"
      ]
     },
     "execution_count": 4,
     "metadata": {},
     "output_type": "execute_result"
    }
   ],
   "source": [
    "a = np.array([1, 2, 3], dtype=np.int32)\n",
    "b = [4, 5, 6]\n",
    "\n",
    "t_a = tf.convert_to_tensor(a)\n",
    "t_b = tf.convert_to_tensor(b)\n",
    "\n",
    "t_a, t_b"
   ]
  },
  {
   "cell_type": "code",
   "execution_count": 10,
   "id": "b917bfcf-fd44-4838-bcaf-df219db498a6",
   "metadata": {
    "tags": []
   },
   "outputs": [
    {
     "name": "stdout",
     "output_type": "stream",
     "text": [
      "[[1. 1. 1.]\n",
      " [1. 1. 1.]]\n"
     ]
    },
    {
     "data": {
      "text/plain": [
       "<tf.Tensor: shape=(2, 3), dtype=float32, numpy=\n",
       "array([[1., 1., 1.],\n",
       "       [1., 1., 1.]], dtype=float32)>"
      ]
     },
     "execution_count": 10,
     "metadata": {},
     "output_type": "execute_result"
    }
   ],
   "source": [
    "t_ones = tf.ones((2, 3))\n",
    "print(t_ones.numpy())\n",
    "t_ones"
   ]
  },
  {
   "cell_type": "code",
   "execution_count": 11,
   "id": "c8f5d032-e3d9-4586-88df-314f12340966",
   "metadata": {
    "tags": []
   },
   "outputs": [
    {
     "data": {
      "text/plain": [
       "<tf.Tensor: shape=(3,), dtype=float32, numpy=array([1.2  , 5.   , 3.142], dtype=float32)>"
      ]
     },
     "execution_count": 11,
     "metadata": {},
     "output_type": "execute_result"
    }
   ],
   "source": [
    "const_tensor = tf.constant([1.2, 5, np.pi], dtype=tf.float32)\n",
    "const_tensor"
   ]
  },
  {
   "cell_type": "code",
   "execution_count": 12,
   "id": "03d2ed23-e5f2-4e41-aebd-6d94fcecaa49",
   "metadata": {
    "tags": []
   },
   "outputs": [
    {
     "name": "stdout",
     "output_type": "stream",
     "text": [
      "<dtype: 'int64'>\n"
     ]
    },
    {
     "data": {
      "text/plain": [
       "<tf.Tensor: shape=(3,), dtype=int64, numpy=array([1, 2, 3], dtype=int64)>"
      ]
     },
     "execution_count": 12,
     "metadata": {},
     "output_type": "execute_result"
    }
   ],
   "source": [
    "t_a_new = tf.cast(t_a, tf.int64)\n",
    "print(t_a_new.dtype)\n",
    "t_a_new"
   ]
  },
  {
   "cell_type": "code",
   "execution_count": 13,
   "id": "bea958a1-a170-4f6b-8cda-a1281399be30",
   "metadata": {
    "tags": []
   },
   "outputs": [
    {
     "name": "stdout",
     "output_type": "stream",
     "text": [
      "(5, 3)\n"
     ]
    },
    {
     "data": {
      "text/plain": [
       "(<tf.Tensor: shape=(3, 5), dtype=float32, numpy=\n",
       " array([[0.703, 0.239, 0.893, 0.267, 0.007],\n",
       "        [0.252, 0.093, 0.545, 0.175, 0.047],\n",
       "        [0.106, 0.295, 0.419, 0.672, 0.783]], dtype=float32)>,\n",
       " <tf.Tensor: shape=(5, 3), dtype=float32, numpy=\n",
       " array([[0.703, 0.252, 0.106],\n",
       "        [0.239, 0.093, 0.295],\n",
       "        [0.893, 0.545, 0.419],\n",
       "        [0.267, 0.175, 0.672],\n",
       "        [0.007, 0.047, 0.783]], dtype=float32)>)"
      ]
     },
     "execution_count": 13,
     "metadata": {},
     "output_type": "execute_result"
    }
   ],
   "source": [
    "t = tf.random.uniform(shape=(3, 5))\n",
    "t_tr = tf.transpose(t)\n",
    "print(t_tr.shape)\n",
    "t, t_tr"
   ]
  },
  {
   "cell_type": "code",
   "execution_count": 14,
   "id": "c55ae322-d14d-46f0-9655-89a4861491c4",
   "metadata": {
    "tags": []
   },
   "outputs": [
    {
     "name": "stdout",
     "output_type": "stream",
     "text": [
      "(5, 6)\n"
     ]
    },
    {
     "data": {
      "text/plain": [
       "(<tf.Tensor: shape=(30,), dtype=float32, numpy=\n",
       " array([0., 0., 0., 0., 0., 0., 0., 0., 0., 0., 0., 0., 0., 0., 0., 0., 0.,\n",
       "        0., 0., 0., 0., 0., 0., 0., 0., 0., 0., 0., 0., 0.], dtype=float32)>,\n",
       " <tf.Tensor: shape=(5, 6), dtype=float32, numpy=\n",
       " array([[0., 0., 0., 0., 0., 0.],\n",
       "        [0., 0., 0., 0., 0., 0.],\n",
       "        [0., 0., 0., 0., 0., 0.],\n",
       "        [0., 0., 0., 0., 0., 0.],\n",
       "        [0., 0., 0., 0., 0., 0.]], dtype=float32)>)"
      ]
     },
     "execution_count": 14,
     "metadata": {},
     "output_type": "execute_result"
    }
   ],
   "source": [
    "t = tf.zeros((30,))\n",
    "t_reshape = tf.reshape(t, shape=(5, 6))\n",
    "print(t_reshape.shape)\n",
    "t, t_reshape"
   ]
  },
  {
   "cell_type": "code",
   "execution_count": 17,
   "id": "7dafc36d-16cb-4185-b9c0-87069463568f",
   "metadata": {
    "tags": []
   },
   "outputs": [
    {
     "name": "stdout",
     "output_type": "stream",
     "text": [
      "(1, 2, 1, 4, 1) -> (1, 2, 4)\n"
     ]
    },
    {
     "data": {
      "text/plain": [
       "(<tf.Tensor: shape=(1, 2, 1, 4, 1), dtype=float32, numpy=\n",
       " array([[[[[0.],\n",
       "           [0.],\n",
       "           [0.],\n",
       "           [0.]]],\n",
       " \n",
       " \n",
       "         [[[0.],\n",
       "           [0.],\n",
       "           [0.],\n",
       "           [0.]]]]], dtype=float32)>,\n",
       " <tf.Tensor: shape=(1, 2, 4), dtype=float32, numpy=\n",
       " array([[[0., 0., 0., 0.],\n",
       "         [0., 0., 0., 0.]]], dtype=float32)>)"
      ]
     },
     "execution_count": 17,
     "metadata": {},
     "output_type": "execute_result"
    }
   ],
   "source": [
    "t = tf.zeros((1, 2, 1, 4, 1))\n",
    "# Delete 2 and 4 dimensions (0-indexed)\n",
    "t_squeezed = tf.squeeze(t, axis=(2, 4))\n",
    "print(f'{t.shape} -> {t_squeezed.shape}')\n",
    "t, t_squeezed"
   ]
  },
  {
   "cell_type": "code",
   "execution_count": 19,
   "id": "a3b0d84e-5c05-4f76-bbc6-a3087f85d8d5",
   "metadata": {
    "tags": []
   },
   "outputs": [
    {
     "name": "stdout",
     "output_type": "stream",
     "text": [
      "t1: tf.Tensor(\n",
      "[[-0.67   0.803]\n",
      " [ 0.262 -0.131]\n",
      " [-0.416  0.285]\n",
      " [ 0.952 -0.13 ]\n",
      " [ 0.32   0.21 ]], shape=(5, 2), dtype=float32)\n",
      "t2: tf.Tensor(\n",
      "[[ 0.403 -1.088]\n",
      " [-0.063  1.337]\n",
      " [ 0.712 -0.489]\n",
      " [-0.764 -1.037]\n",
      " [-1.252  0.021]], shape=(5, 2), dtype=float32)\n",
      "Element wise multiplication:\n",
      "[[-0.27  -0.874]\n",
      " [-0.017 -0.175]\n",
      " [-0.296 -0.139]\n",
      " [-0.727  0.135]\n",
      " [-0.401  0.004]]\n",
      "t1 column mean:\n",
      "tf.Tensor([0.09  0.207], shape=(2,), dtype=float32)\n",
      "t1 column sum:\n",
      "tf.Tensor([0.448 1.037], shape=(2,), dtype=float32)\n",
      "Matrix multiplication t1 * t2_transposed\n",
      "[[-1.144  1.115 -0.87  -0.321  0.856]\n",
      " [ 0.248 -0.191  0.25  -0.064 -0.331]\n",
      " [-0.478  0.407 -0.436  0.022  0.527]\n",
      " [ 0.525 -0.234  0.741 -0.593 -1.194]\n",
      " [-0.099  0.26   0.125 -0.462 -0.396]]\n",
      "Matrix multiplication t1_transposed * t2\n",
      "[[-1.711  0.302]\n",
      " [ 0.371 -1.049]]\n"
     ]
    }
   ],
   "source": [
    "tf.random.set_seed(1)\n",
    "t1 = tf.random.uniform(shape=(5, 2), minval=-1.0, maxval=1.0)\n",
    "t2 = tf.random.normal(shape=(5, 2), mean=0.0, stddev=1.0)\n",
    "print('t1:', t1)\n",
    "print('t2:', t2)\n",
    "\n",
    "t3 = tf.multiply(t1, t2)\n",
    "print('Element wise multiplication:')\n",
    "print(t3.numpy())\n",
    "\n",
    "t4 = tf.math.reduce_mean(t1, axis=0)\n",
    "print('t1 column mean:')\n",
    "print(t4)\n",
    "\n",
    "t4_sum = tf.math.reduce_sum(t1, axis=0)\n",
    "print('t1 column sum:')\n",
    "print(t4_sum)\n",
    "\n",
    "t5 = tf.linalg.matmul(t1, t2, transpose_b=True)\n",
    "print('Matrix multiplication t1 * t2_transposed')\n",
    "print(t5.numpy())\n",
    "\n",
    "t6 = tf.linalg.matmul(t1, t2, transpose_a=True)\n",
    "print('Matrix multiplication t1_transposed * t2')\n",
    "print(t6.numpy())"
   ]
  },
  {
   "cell_type": "code",
   "execution_count": 22,
   "id": "f90742c5-8a2c-401a-8a2c-6909241aee15",
   "metadata": {
    "tags": []
   },
   "outputs": [
    {
     "name": "stdout",
     "output_type": "stream",
     "text": [
      "[0.165 0.901 0.631 0.435 0.292 0.643]\n",
      "Even split:\n",
      "tf.Tensor([0.165 0.901], shape=(2,), dtype=float32)\n",
      "tf.Tensor([0.631 0.435], shape=(2,), dtype=float32)\n",
      "tf.Tensor([0.292 0.643], shape=(2,), dtype=float32)\n",
      "\n",
      "[0.51  0.444 0.409 0.992 0.689]\n",
      "Non-even split:\n",
      "tf.Tensor([0.51  0.444 0.409], shape=(3,), dtype=float32)\n",
      "tf.Tensor([0.992 0.689], shape=(2,), dtype=float32)\n"
     ]
    }
   ],
   "source": [
    "tf.random.set_seed(1)\n",
    "t = tf.random.uniform((6,))\n",
    "print(t.numpy())\n",
    "t_split = tf.split(t, num_or_size_splits=3)\n",
    "print('Even split:')\n",
    "for spl in t_split:\n",
    "    print(spl)\n",
    "print()\n",
    "    \n",
    "t = tf.random.uniform((5,))\n",
    "print(t.numpy())\n",
    "t_split = tf.split(t, num_or_size_splits=[3, 2])\n",
    "print('Non-even split:')\n",
    "for spl in t_split:\n",
    "    print(spl)"
   ]
  },
  {
   "cell_type": "code",
   "execution_count": 25,
   "id": "bd64b936-e0fa-4983-85fb-75c060a7d267",
   "metadata": {
    "tags": []
   },
   "outputs": [
    {
     "name": "stdout",
     "output_type": "stream",
     "text": [
      "A: tf.Tensor([1. 1. 1.], shape=(3,), dtype=float32)\n",
      "B: tf.Tensor([0. 0.], shape=(2,), dtype=float32)\n",
      "C: tf.Tensor([1. 1. 1. 0. 0.], shape=(5,), dtype=float32) \n",
      "\n",
      "A: tf.Tensor([1. 1. 1.], shape=(3,), dtype=float32)\n",
      "B: tf.Tensor([0. 0. 0.], shape=(3,), dtype=float32)\n",
      "Stack axis=0: tf.Tensor(\n",
      "[[1. 1. 1.]\n",
      " [0. 0. 0.]], shape=(2, 3), dtype=float32)\n",
      "Stack axis=1: tf.Tensor(\n",
      "[[1. 0.]\n",
      " [1. 0.]\n",
      " [1. 0.]], shape=(3, 2), dtype=float32)\n"
     ]
    }
   ],
   "source": [
    "A = tf.ones((3,))\n",
    "B = tf.zeros((2,))\n",
    "print('A:', A)\n",
    "print('B:', B)\n",
    "C = tf.concat([A, B], axis=0)\n",
    "print('C:', C, '\\n')\n",
    "\n",
    "A = tf.ones((3,))\n",
    "B = tf.zeros((3,))\n",
    "print('A:', A)\n",
    "print('B:', B)\n",
    "S = tf.stack([A, B], axis=0)\n",
    "print('Stack axis=0:', S)\n",
    "S = tf.stack([A, B], axis=1)\n",
    "print('Stack axis=1:', S)"
   ]
  },
  {
   "cell_type": "code",
   "execution_count": 27,
   "id": "3969a80b-3e35-44a5-a9d3-21a2b6af471d",
   "metadata": {
    "tags": []
   },
   "outputs": [
    {
     "name": "stdout",
     "output_type": "stream",
     "text": [
      "<TensorSliceDataset element_spec=TensorSpec(shape=(), dtype=tf.float32, name=None)>\n",
      "tf.Tensor(1.2, shape=(), dtype=float32)\n",
      "tf.Tensor(3.4, shape=(), dtype=float32)\n",
      "tf.Tensor(7.5, shape=(), dtype=float32)\n",
      "tf.Tensor(4.1, shape=(), dtype=float32)\n",
      "tf.Tensor(5.0, shape=(), dtype=float32)\n",
      "tf.Tensor(1.0, shape=(), dtype=float32)\n",
      "\n",
      "batch 1: [1.2 3.4 7.5]\n",
      "batch 2: [4.1 5.  1. ]\n"
     ]
    }
   ],
   "source": [
    "a = [1.2, 3.4, 7.5, 4.1, 5.0, 1.0]\n",
    "ds = tf.data.Dataset.from_tensor_slices(a)\n",
    "print(ds)\n",
    "\n",
    "for item in ds:\n",
    "    print(item)\n",
    "print()\n",
    "    \n",
    "ds_batch = ds.batch(3)\n",
    "for i, elem in enumerate(ds_batch, 1):\n",
    "    print(f'batch {i}: {elem.numpy()}')"
   ]
  },
  {
   "cell_type": "code",
   "execution_count": 33,
   "id": "784a736d-807d-43fe-a5ca-1be685ff9189",
   "metadata": {
    "tags": []
   },
   "outputs": [
    {
     "name": "stdout",
     "output_type": "stream",
     "text": [
      "t_x: tf.Tensor(\n",
      "[[0.298 0.963 0.429]\n",
      " [0.361 0.266 0.49 ]\n",
      " [0.253 0.312 0.965]\n",
      " [0.115 0.93  0.841]], shape=(4, 3), dtype=float32)\n",
      "t_y: tf.Tensor([0 1 2 3], shape=(4,), dtype=int32) \n",
      "\n",
      "ds_x: <TensorSliceDataset element_spec=TensorSpec(shape=(3,), dtype=tf.float32, name=None)>\n",
      "ds_y: <TensorSliceDataset element_spec=TensorSpec(shape=(), dtype=tf.int32, name=None)>\n",
      "x: [0.298 0.963 0.429]  y: 0\n",
      "x: [0.361 0.266 0.49 ]  y: 1\n",
      "x: [0.253 0.312 0.965]  y: 2\n",
      "x: [0.115 0.93  0.841]  y: 3\n",
      "\n",
      "Alternative definition\n",
      "x: [0.298 0.963 0.429]  y: 0\n",
      "x: [0.361 0.266 0.49 ]  y: 1\n",
      "x: [0.253 0.312 0.965]  y: 2\n",
      "x: [0.115 0.93  0.841]  y: 3\n"
     ]
    }
   ],
   "source": [
    "t_x = tf.random.uniform([4, 3], dtype=tf.float32)\n",
    "t_y = tf.range(4)\n",
    "print('t_x:', t_x)\n",
    "print('t_y:', t_y, '\\n')\n",
    "\n",
    "ds_x = tf.data.Dataset.from_tensor_slices(t_x)\n",
    "print('ds_x:', ds_x)\n",
    "ds_y = tf.data.Dataset.from_tensor_slices(t_y)\n",
    "print('ds_y:', ds_y)\n",
    "ds_joint = tf.data.Dataset.zip((ds_x, ds_y))\n",
    "for example in ds_joint:\n",
    "    print(f'x: {example[0].numpy()}  y: {example[1].numpy()}')\n",
    "print()\n",
    "\n",
    "print('Alternative definition')\n",
    "ds_joint = tf.data.Dataset.from_tensor_slices((t_x, t_y))\n",
    "for example in ds_joint:\n",
    "    print(f'x: {example[0].numpy()}  y: {example[1].numpy()}')"
   ]
  },
  {
   "cell_type": "code",
   "execution_count": 34,
   "id": "eecedc3e-9426-4cf9-ac7a-ec4675998c20",
   "metadata": {
    "tags": []
   },
   "outputs": [
    {
     "name": "stdout",
     "output_type": "stream",
     "text": [
      "x: [-0.405  0.926 -0.142]  y: 0\n",
      "x: [-0.279 -0.468 -0.021]  y: 1\n",
      "x: [-0.493 -0.376  0.93 ]  y: 2\n",
      "x: [-0.769  0.86   0.682]  y: 3\n"
     ]
    }
   ],
   "source": [
    "ds_trans = ds_joint.map(lambda x, y: (x*2-1.0, y))\n",
    "for example in ds_trans:\n",
    "    print(f'x: {example[0].numpy()}  y: {example[1].numpy()}')"
   ]
  },
  {
   "cell_type": "code",
   "execution_count": 35,
   "id": "dfc916ee-5d83-4318-9492-bc59efe28993",
   "metadata": {
    "tags": []
   },
   "outputs": [
    {
     "name": "stdout",
     "output_type": "stream",
     "text": [
      "x: [0.253 0.312 0.965]  y: 2\n",
      "x: [0.361 0.266 0.49 ]  y: 1\n",
      "x: [0.298 0.963 0.429]  y: 0\n",
      "x: [0.115 0.93  0.841]  y: 3\n"
     ]
    }
   ],
   "source": [
    "tf.random.set_seed(1)\n",
    "ds = ds_joint.shuffle(buffer_size=len(t_x))\n",
    "for example in ds:\n",
    "    print(f'x: {example[0].numpy()}  y: {example[1].numpy()}')"
   ]
  },
  {
   "cell_type": "code",
   "execution_count": 36,
   "id": "3591b10f-7407-4b1e-816b-58cf77d1e902",
   "metadata": {
    "tags": []
   },
   "outputs": [
    {
     "name": "stdout",
     "output_type": "stream",
     "text": [
      "batch_x[0]: tf.Tensor(\n",
      "[[0.298 0.963 0.429]\n",
      " [0.361 0.266 0.49 ]\n",
      " [0.253 0.312 0.965]], shape=(3, 3), dtype=float32)\n",
      "batch_y[0]: tf.Tensor([0 1 2], shape=(3,), dtype=int32)\n",
      "batch_x[1]: tf.Tensor([[0.115 0.93  0.841]], shape=(1, 3), dtype=float32)\n",
      "batch_y[1]: tf.Tensor([3], shape=(1,), dtype=int32)\n"
     ]
    }
   ],
   "source": [
    "ds = ds_joint.batch(batch_size=3, drop_remainder=False)\n",
    "ds_iter = iter(ds)\n",
    "batch_x, batch_y = next(ds_iter)\n",
    "print('batch_x[0]:', batch_x)\n",
    "print('batch_y[0]:', batch_y)\n",
    "batch_x, batch_y = next(ds_iter)\n",
    "print('batch_x[1]:', batch_x)\n",
    "print('batch_y[1]:', batch_y)"
   ]
  },
  {
   "cell_type": "code",
   "execution_count": 37,
   "id": "87d4ad69-0b05-4055-b075-6a744d8d5710",
   "metadata": {
    "tags": []
   },
   "outputs": [
    {
     "name": "stdout",
     "output_type": "stream",
     "text": [
      "0 (3, 3) [0 1 2]\n",
      "1 (1, 3) [3]\n",
      "2 (3, 3) [0 1 2]\n",
      "3 (1, 3) [3]\n"
     ]
    }
   ],
   "source": [
    "ds = ds_joint.batch(batch_size=3).repeat(count=2)\n",
    "for i, (batch_x, batch_y) in enumerate(ds):\n",
    "    print(i, batch_x.shape, batch_y.numpy())"
   ]
  },
  {
   "cell_type": "code",
   "execution_count": 38,
   "id": "53d94c14-286f-4fa3-ae03-fac6c42c6e3d",
   "metadata": {
    "tags": []
   },
   "outputs": [
    {
     "name": "stdout",
     "output_type": "stream",
     "text": [
      "0 (3, 3) [0 1 2]\n",
      "1 (3, 3) [3 0 1]\n",
      "2 (2, 3) [2 3]\n"
     ]
    }
   ],
   "source": [
    "ds = ds_joint.repeat(count=2).batch(batch_size=3)\n",
    "for i, (batch_x, batch_y) in enumerate(ds):\n",
    "    print(i, batch_x.shape, batch_y.numpy())"
   ]
  },
  {
   "cell_type": "code",
   "execution_count": 39,
   "id": "73a733e1-9460-46e3-9680-bdf9c1c1de0c",
   "metadata": {
    "tags": []
   },
   "outputs": [
    {
     "name": "stdout",
     "output_type": "stream",
     "text": [
      "0 (2, 3) [2 1]\n",
      "1 (2, 3) [0 3]\n",
      "2 (2, 3) [0 3]\n",
      "3 (2, 3) [1 2]\n",
      "4 (2, 3) [3 0]\n",
      "5 (2, 3) [1 2]\n",
      "6 (2, 3) [1 3]\n",
      "7 (2, 3) [2 0]\n"
     ]
    }
   ],
   "source": [
    "tf.random.set_seed(1)\n",
    "ds = ds_joint.shuffle(4).batch(batch_size=2).repeat(count=4)\n",
    "for i, (batch_x, batch_y) in enumerate(ds):\n",
    "    print(i, batch_x.shape, batch_y.numpy())"
   ]
  },
  {
   "cell_type": "code",
   "execution_count": 40,
   "id": "100f0a65-e3df-4dcd-a3ea-05c9a2e6fa30",
   "metadata": {
    "tags": []
   },
   "outputs": [
    {
     "name": "stdout",
     "output_type": "stream",
     "text": [
      "0 (2, 3) [0 1]\n",
      "1 (2, 3) [2 3]\n",
      "2 (2, 3) [0 1]\n",
      "3 (2, 3) [2 3]\n",
      "4 (2, 3) [2 3]\n",
      "5 (2, 3) [0 1]\n"
     ]
    }
   ],
   "source": [
    "tf.random.set_seed(1)\n",
    "ds = ds_joint.batch(batch_size=2).shuffle(2).repeat(count=3)\n",
    "for i, (batch_x, batch_y) in enumerate(ds):\n",
    "    print(i, batch_x.shape, batch_y.numpy())"
   ]
  },
  {
   "cell_type": "code",
   "execution_count": 41,
   "id": "c54f295f-37c0-42d3-ab8f-2f0cadd2cb29",
   "metadata": {
    "tags": []
   },
   "outputs": [
    {
     "name": "stdout",
     "output_type": "stream",
     "text": [
      "0 (2, 3) [0 1]\n",
      "1 (2, 3) [0 1]\n",
      "2 (2, 3) [2 3]\n",
      "3 (2, 3) [0 1]\n",
      "4 (2, 3) [2 3]\n",
      "5 (2, 3) [2 3]\n",
      "6 (2, 3) [2 3]\n",
      "7 (2, 3) [0 1]\n",
      "8 (2, 3) [2 3]\n",
      "9 (2, 3) [0 1]\n"
     ]
    }
   ],
   "source": [
    "tf.random.set_seed(1)\n",
    "ds = ds_joint.batch(batch_size=2).repeat(count=5).shuffle(4)\n",
    "for i, (batch_x, batch_y) in enumerate(ds):\n",
    "    print(i, batch_x.shape, batch_y.numpy())"
   ]
  }
 ],
 "metadata": {
  "kernelspec": {
   "display_name": "Python 3.10 (rashka_env)",
   "language": "python",
   "name": "rashka_env"
  },
  "language_info": {
   "codemirror_mode": {
    "name": "ipython",
    "version": 3
   },
   "file_extension": ".py",
   "mimetype": "text/x-python",
   "name": "python",
   "nbconvert_exporter": "python",
   "pygments_lexer": "ipython3",
   "version": "3.10.11"
  }
 },
 "nbformat": 4,
 "nbformat_minor": 5
}
