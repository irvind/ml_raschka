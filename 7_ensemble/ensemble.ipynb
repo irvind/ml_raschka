{
 "cells": [
  {
   "cell_type": "code",
   "execution_count": 2,
   "id": "4f73db2a-5190-40b2-816c-9b7aba79845e",
   "metadata": {},
   "outputs": [
    {
     "name": "stdout",
     "output_type": "stream",
     "text": [
      "0.03432750701904297\n",
      "0.10400000000000004\n"
     ]
    }
   ],
   "source": [
    "import math\n",
    "from scipy.special import comb\n",
    "\n",
    "def ensemble_error(n_classifier, error):\n",
    "    k_start = int(math.ceil(n_classifier / 2.))\n",
    "    probs = [comb(n_classifier, k) *\n",
    "             error**k *\n",
    "             (1-error)**(n_classifier - k)\n",
    "             for k in range(k_start, n_classifier + 1)]\n",
    "    return sum(probs)\n",
    "\n",
    "\n",
    "print(ensemble_error(11, 0.25))\n",
    "print(ensemble_error(3, 0.2))"
   ]
  },
  {
   "cell_type": "code",
   "execution_count": 3,
   "id": "493f7100-1412-4f73-a7ea-57434b3a70ae",
   "metadata": {},
   "outputs": [
    {
     "data": {
      "image/png": "[encoded data removed]",
      "text/plain": [
       "<Figure size 432x288 with 1 Axes>"
      ]
     },
     "metadata": {
      "needs_background": "light"
     },
     "output_type": "display_data"
    }
   ],
   "source": [
    "import numpy as np\n",
    "import matplotlib.pyplot as plt\n",
    "\n",
    "error_range = np.arange(0.0, 1.01, 0.01)\n",
    "ensemble_errors = [ensemble_error(11, err) for err in error_range]\n",
    "plt.plot(error_range, ensemble_errors,\n",
    "         label='Ensemble error', linewidth=2)\n",
    "plt.plot(error_range, error_range,\n",
    "         label='Base error', linewidth=2, linestyle='--')\n",
    "plt.xlabel('Base error')\n",
    "plt.ylabel('Ensemble/base error')\n",
    "plt.legend(loc='upper left')\n",
    "plt.grid(alpha=0.5)\n",
    "plt.show()"
   ]
  },
  {
   "cell_type": "code",
   "execution_count": 4,
   "id": "00bed446-0818-4318-8229-5537ddd4a09c",
   "metadata": {},
   "outputs": [
    {
     "name": "stdout",
     "output_type": "stream",
     "text": [
      "[0.4 0.6 1.3 0.  0.  2. ]\n",
      "5\n"
     ]
    }
   ],
   "source": [
    "bin_test = np.bincount([0, 0, 1, 2, 2, 5], weights=[0.2, 0.2, 0.6, 0.3, 1, 2])\n",
    "print(bin_test)\n",
    "print(np.argmax(bin_test))"
   ]
  },
  {
   "cell_type": "code",
   "execution_count": null,
   "id": "7a076257-b326-4237-874b-cbcfc39fabb8",
   "metadata": {},
   "outputs": [],
   "source": [
    "from sklearn.preprocessing import LabelEncoder\n",
    "from sklearn.base import BaseEstimator, ClassifierMixin, clone\n",
    "from sklearn.pipeline import _name_estimators\n",
    "\n",
    "class MajorityVoteClassifier():\n",
    "    def __init__(self, classifiers, vote='classlabel', weights=None):\n",
    "        assert vote in ('classlabel', 'probability')\n",
    "        assert weights and len(weights) == len(classifiers)\n",
    "        self.classifiers = classifiers\n",
    "        self.named_classifiers = {k: v for k, v in _name_estimators(classifiers)}\n",
    "        self.vote = vote\n",
    "        self.weights = weights\n",
    "        self.classifiers_ = None\n",
    "        self.label_enc_ = None\n",
    "    \n",
    "    def fit(self, X, y):\n",
    "        self.label_enc_ = LabelEncoder()\n",
    "        self.label_enc_.fit(y)\n",
    "        y_encoded = self.label_enc_.transform(y)\n",
    "        self.classifiers_ = []\n",
    "        for clf in self.classifiers:\n",
    "            fitted_clf = clone(clf).fit(X, y_encoded)\n",
    "            self.classifiers_.append(fitted_clf)\n",
    "\n",
    "        return self\n",
    "    \n",
    "    def predict(self, X):\n",
    "        if self.vote == 'probability':\n",
    "            maj_vote = np.argmax(self.predict_proba(X), axis=1)\n",
    "        else:    # vote == 'classlabel'\n",
    "            # shape: (n_samples, n_classifiers)\n",
    "            predictions = np.asarray([clf.predict(X)\n",
    "                                      for clf in self.classifiers_]).T\n",
    "            maj_vote = np.apply_along_axis(\n",
    "                lambda x: np.argmax(np.bincount(x, weights=self.weights)),\n",
    "                axis=1,\n",
    "                arr=predictions\n",
    "            )\n",
    "            \n",
    "        maj_vote = self.label_enc_.inverse_transform(maj_vote)\n",
    "        return maj_vote\n",
    "        \n",
    "    def predict_prova(self, X):\n",
    "        probas = np.asarray([clf.predict_proba(X) for clf in self.classifiers_])\n",
    "        avg_proba = np.average(probas, axis=0, weights=self.weights)\n",
    "        return avg_proba\n",
    "    \n",
    "    def get_params(self, deep=True):\n",
    "        if not deep:\n",
    "            return super(MajorityVoteClassifier, self).get_params(deep=False)\n",
    "\n",
    "        out = self.named_classifiers.copy()\n",
    "        for name, step in self.named_classifiers.items():\n",
    "            for k, v in step.get_params(deep=True):\n",
    "                out[f'{name}__{k}'] = v\n",
    "        return out"
   ]
  },
  {
   "cell_type": "code",
   "execution_count": 32,
   "id": "6cfe7b07-b469-4aa1-bf1c-45ec00ef4449",
   "metadata": {},
   "outputs": [
    {
     "name": "stdout",
     "output_type": "stream",
     "text": [
      "[2. 4. 6.]\n",
      "[1 2 3]\n",
      "[3 4 5]\n",
      "[5 6 7]\n",
      "\n",
      "[3. 4. 5.]\n",
      "[1 3 5]\n",
      "[2 4 6]\n",
      "[3 5 7]\n"
     ]
    }
   ],
   "source": [
    "my_arr = np.asarray([\n",
    "    np.array([[1, 2], [3, 4]]),\n",
    "    np.array([[5, 6], [7, 8]]),\n",
    "])\n",
    "np.average(my_arr, axis=0)\n",
    "\n",
    "my_arr2 = np.array([\n",
    "    [1, 3, 5],\n",
    "    [2, 4, 6],\n",
    "    [3, 5, 7]\n",
    "])\n",
    "print(np.average(\n",
    "    my_arr2,\n",
    "    axis=0\n",
    "))\n",
    "print(my_arr2[:, 0])\n",
    "print(my_arr2[:, 1])\n",
    "print(my_arr2[:, 2])\n",
    "print()\n",
    "print(np.average(\n",
    "    my_arr2,\n",
    "    axis=1\n",
    "))\n",
    "print(my_arr2[0, :])\n",
    "print(my_arr2[1, :])\n",
    "print(my_arr2[2, :])"
   ]
  },
  {
   "cell_type": "code",
   "execution_count": 49,
   "id": "8bd6535d-d476-42bf-af58-106f9820e73a",
   "metadata": {},
   "outputs": [
    {
     "name": "stdout",
     "output_type": "stream",
     "text": [
      "[[ 5.5  7.5  9.5]\n",
      " [ 6.5  8.5 10.5]\n",
      " [ 7.5  9.5 11.5]]\n",
      "(2, 3, 3)\n",
      "(3, 3)\n",
      "1\n",
      "[ 3 12]\n"
     ]
    }
   ],
   "source": [
    "my_arr3 = np.array([\n",
    "    [[1, 3, 5],\n",
    "     [2, 4, 6],\n",
    "     [3, 5, 7]],\n",
    "    \n",
    "    [[10, 12, 14],\n",
    "     [11, 13, 15],\n",
    "     [12, 14, 16]]\n",
    "])\n",
    "\n",
    "# Считает средние для каждого элемента двух матриц\n",
    "print(np.average(my_arr3, axis=0))\n",
    "print(my_arr3.shape)\n",
    "print(np.average(my_arr3, axis=0).shape)\n",
    "print(my_arr3[0][0][0])\n",
    "print(my_arr3[:, 0, 1])"
   ]
  },
  {
   "cell_type": "code",
   "execution_count": 54,
   "id": "47adf81d-5e71-4a5d-99e2-5242402d1b00",
   "metadata": {},
   "outputs": [
    {
     "data": {
      "text/plain": [
       "2.25"
      ]
     },
     "execution_count": 54,
     "metadata": {},
     "output_type": "execute_result"
    }
   ],
   "source": [
    "# Можно указать веса\n",
    "# https://numpy.org/doc/stable/reference/generated/numpy.average.html#numpy-average\n",
    "np.average(np.array([2, 3]), weights=np.array([3, 1]))"
   ]
  },
  {
   "cell_type": "code",
   "execution_count": 63,
   "id": "3b6c1423-9cb3-4ba0-834e-c41102f6d497",
   "metadata": {},
   "outputs": [
    {
     "name": "stdout",
     "output_type": "stream",
     "text": [
      "[1 1 0 1]\n",
      "[2 3]\n"
     ]
    }
   ],
   "source": [
    "my_arr4 = np.array(\n",
    "    [[2, 1, 6, 0],\n",
    "     [3, 4, 1, 5]]\n",
    ")\n",
    "# Ищем номера строк в которых значение колонки максимальное. Выдаем результат для каждой колонки\n",
    "print(np.argmax(\n",
    "    my_arr4,\n",
    "    axis=0\n",
    "))\n",
    "# Ищем номера колонок в которых значение в строке максимальное. Выдаем результат для каждой строки\n",
    "print(np.argmax(\n",
    "    my_arr4,\n",
    "    axis=1\n",
    "))"
   ]
  },
  {
   "cell_type": "code",
   "execution_count": 66,
   "id": "13466c21-c324-41aa-94a2-18ba1bd9a957",
   "metadata": {},
   "outputs": [
    {
     "name": "stdout",
     "output_type": "stream",
     "text": [
      "[[1 5]\n",
      " [2 6]\n",
      " [3 7]\n",
      " [4 8]]\n"
     ]
    }
   ],
   "source": [
    "print(np.asarray([\n",
    "    np.array([1, 2, 3, 4]),\n",
    "    np.array([5, 6, 7, 8])\n",
    "]).T)"
   ]
  },
  {
   "cell_type": "code",
   "execution_count": 68,
   "id": "a8793e74-769b-43bf-83f5-4f5888d5e22b",
   "metadata": {},
   "outputs": [
    {
     "data": {
      "text/plain": [
       "array([[2, 3],\n",
       "       [4, 5]])"
      ]
     },
     "execution_count": 68,
     "metadata": {},
     "output_type": "execute_result"
    }
   ],
   "source": [
    "np.apply_along_axis(\n",
    "    lambda x: x + 1,\n",
    "    axis=1,\n",
    "    arr=np.array([\n",
    "        [1, 2],\n",
    "        [3, 4]\n",
    "    ])\n",
    ")"
   ]
  },
  {
   "cell_type": "code",
   "execution_count": 69,
   "id": "aa2339b2-255a-46e1-b7ad-cb87bf6d40e9",
   "metadata": {},
   "outputs": [
    {
     "data": {
      "text/plain": [
       "0"
      ]
     },
     "execution_count": 69,
     "metadata": {},
     "output_type": "execute_result"
    }
   ],
   "source": [
    "np.argmax(np.array([3, 1, 0]))"
   ]
  }
 ],
 "metadata": {
  "kernelspec": {
   "display_name": "Python 3 (ipykernel)",
   "language": "python",
   "name": "python3"
  },
  "language_info": {
   "codemirror_mode": {
    "name": "ipython",
    "version": 3
   },
   "file_extension": ".py",
   "mimetype": "text/x-python",
   "name": "python",
   "nbconvert_exporter": "python",
   "pygments_lexer": "ipython3",
   "version": "3.9.7"
  }
 },
 "nbformat": 4,
 "nbformat_minor": 5
}
