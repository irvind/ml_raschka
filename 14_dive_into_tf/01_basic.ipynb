{
 "cells": [
  {
   "cell_type": "code",
   "execution_count": 2,
   "id": "86cd966c-8ae0-42b4-afc0-d7df9e7daf7e",
   "metadata": {
    "tags": []
   },
   "outputs": [],
   "source": [
    "import tensorflow as tf"
   ]
  },
  {
   "cell_type": "code",
   "execution_count": 3,
   "id": "3518b778-46ce-4d2f-9532-083236d3ce1b",
   "metadata": {
    "tags": []
   },
   "outputs": [],
   "source": [
    "# TF 1 style\n",
    "g = tf.Graph()\n",
    "with g.as_default():\n",
    "    a = tf.constant(1, name='a')\n",
    "    b = tf.constant(2, name='b')\n",
    "    c = tf.constant(3, name='c')\n",
    "    z = 2*(a-b) + c"
   ]
  },
  {
   "cell_type": "code",
   "execution_count": 5,
   "id": "8eceb313-9d38-4889-a177-d3daeca5cfc6",
   "metadata": {
    "tags": []
   },
   "outputs": [
    {
     "name": "stdout",
     "output_type": "stream",
     "text": [
      "Result z = 1\n"
     ]
    }
   ],
   "source": [
    "with tf.compat.v1.Session(graph=g) as sess:\n",
    "    print('Result z =', sess.run(z))"
   ]
  },
  {
   "cell_type": "code",
   "execution_count": 7,
   "id": "2b386e01-f5e7-496a-a85c-eaece5c16ae0",
   "metadata": {
    "tags": []
   },
   "outputs": [
    {
     "name": "stdout",
     "output_type": "stream",
     "text": [
      "Result z = tf.Tensor(1, shape=(), dtype=int32)\n"
     ]
    }
   ],
   "source": [
    "# TF 2 style\n",
    "a = tf.constant(1, name='a')\n",
    "b = tf.constant(2, name='b')\n",
    "c = tf.constant(3, name='c')\n",
    "z = 2*(a-b) + c\n",
    "print('Result z =', z)"
   ]
  },
  {
   "cell_type": "code",
   "execution_count": 9,
   "id": "a46a3da1-028f-4086-9f4c-ecf8e787bc24",
   "metadata": {
    "tags": []
   },
   "outputs": [
    {
     "name": "stdout",
     "output_type": "stream",
     "text": [
      "Result z = 1\n"
     ]
    }
   ],
   "source": [
    "# TF 1 style\n",
    "g = tf.Graph()\n",
    "with g.as_default():\n",
    "    a = tf.compat.v1.placeholder(shape=None, dtype=tf.int32, name='tf_a')\n",
    "    b = tf.compat.v1.placeholder(shape=None, dtype=tf.int32, name='tf_b')\n",
    "    c = tf.compat.v1.placeholder(shape=None, dtype=tf.int32, name='tf_c')\n",
    "    z = 2*(a-b) + c\n",
    "    \n",
    "with tf.compat.v1.Session(graph=g) as sess:\n",
    "    feed_dict = {a: 1, b: 2, c: 3}\n",
    "    print('Result z =', sess.run(z, feed_dict=feed_dict))"
   ]
  },
  {
   "cell_type": "code",
   "execution_count": 15,
   "id": "6e82738a-00a4-405d-92e0-86fe5638f145",
   "metadata": {
    "tags": []
   },
   "outputs": [],
   "source": [
    "def compute_z(a, b, c):\n",
    "    r1 = tf.subtract(a, b)\n",
    "    r2 = tf.multiply(2, r1)\n",
    "    z = tf.add(r2, c)\n",
    "    return z"
   ]
  },
  {
   "cell_type": "code",
   "execution_count": 19,
   "id": "b59dd801-093a-430a-a5cd-ac3750ac871b",
   "metadata": {
    "tags": []
   },
   "outputs": [
    {
     "name": "stdout",
     "output_type": "stream",
     "text": [
      "1\n",
      "[1]\n",
      "[[1]]\n"
     ]
    }
   ],
   "source": [
    "tf.print(compute_z(1, 2, 3))\n",
    "tf.print(compute_z([1], [2], [3]))\n",
    "tf.print(compute_z([[1]], [[2]], [[3]]))"
   ]
  },
  {
   "cell_type": "code",
   "execution_count": 20,
   "id": "76fbcf7a-e323-4524-9157-ac501e12b278",
   "metadata": {
    "tags": []
   },
   "outputs": [],
   "source": [
    "@tf.function\n",
    "def compute_z(a, b, c):\n",
    "    r1 = tf.subtract(a, b)\n",
    "    r2 = tf.multiply(2, r1)\n",
    "    z = tf.add(r2, c)\n",
    "    return z"
   ]
  },
  {
   "cell_type": "code",
   "execution_count": 21,
   "id": "3f66e339-f479-4cc8-8b86-a1a97bb133ba",
   "metadata": {
    "tags": []
   },
   "outputs": [
    {
     "name": "stdout",
     "output_type": "stream",
     "text": [
      "1\n",
      "[1]\n",
      "[[1]]\n"
     ]
    }
   ],
   "source": [
    "tf.print(compute_z(1, 2, 3))\n",
    "tf.print(compute_z([1], [2], [3]))\n",
    "tf.print(compute_z([[1]], [[2]], [[3]]))"
   ]
  },
  {
   "cell_type": "code",
   "execution_count": 22,
   "id": "49c71ed5-ddc5-4450-b6f2-4f43775f5573",
   "metadata": {
    "tags": []
   },
   "outputs": [],
   "source": [
    "@tf.function(input_signature=(tf.TensorSpec(shape=[None], dtype=tf.int32),\n",
    "                              tf.TensorSpec(shape=[None], dtype=tf.int32),\n",
    "                              tf.TensorSpec(shape=[None], dtype=tf.int32)))\n",
    "def compute_z(a, b, c):\n",
    "    r1 = tf.subtract(a, b)\n",
    "    r2 = tf.multiply(2, r1)\n",
    "    z = tf.add(r2, c)\n",
    "    return z"
   ]
  },
  {
   "cell_type": "code",
   "execution_count": 26,
   "id": "1c7e31f0-3998-4021-8137-3aee98110bf5",
   "metadata": {
    "tags": []
   },
   "outputs": [
    {
     "name": "stdout",
     "output_type": "stream",
     "text": [
      "[1]\n",
      "[1 2]\n"
     ]
    }
   ],
   "source": [
    "tf.print(compute_z([1], [2], [3]))\n",
    "tf.print(compute_z([1, 2], [2, 4], [3, 6]))\n",
    "# tf.print(compute_z(1, 2, 3)) - error\n",
    "# tf.print(compute_z([[1]], [[2]], [[3]])) - error"
   ]
  },
  {
   "cell_type": "code",
   "execution_count": 31,
   "id": "a928a736-f002-497c-a1fa-541e26b80017",
   "metadata": {
    "tags": []
   },
   "outputs": [
    {
     "data": {
      "text/plain": [
       "(<tf.Variable 'var_a:0' shape=() dtype=float32, numpy=3.14>,\n",
       " <tf.Variable 'var_b:0' shape=(3,) dtype=int32, numpy=array([1, 2, 3])>,\n",
       " <tf.Variable 'var_c:0' shape=(2,) dtype=bool, numpy=array([ True, False])>,\n",
       " <tf.Variable 'var_d:0' shape=(1,) dtype=string, numpy=array([b'abc'], dtype=object)>)"
      ]
     },
     "execution_count": 31,
     "metadata": {},
     "output_type": "execute_result"
    }
   ],
   "source": [
    "a = tf.Variable(initial_value=3.14, name='var_a')\n",
    "b = tf.Variable(initial_value=[1, 2, 3], name='var_b')\n",
    "c = tf.Variable(initial_value=[True, False], name='var_c')\n",
    "d = tf.Variable(initial_value=['abc'], name='var_d')\n",
    "(a, b, c, d)"
   ]
  },
  {
   "cell_type": "code",
   "execution_count": 32,
   "id": "d22d72e0-16e8-4afa-a639-13a7747af6ec",
   "metadata": {
    "tags": []
   },
   "outputs": [
    {
     "data": {
      "text/plain": [
       "<tf.Variable 'Variable:0' shape=(3,) dtype=int32, numpy=array([1, 2, 3])>"
      ]
     },
     "execution_count": 32,
     "metadata": {},
     "output_type": "execute_result"
    }
   ],
   "source": [
    "w = tf.Variable([1, 2, 3], trainable=False)\n",
    "w"
   ]
  },
  {
   "cell_type": "code",
   "execution_count": 33,
   "id": "ea25b987-67c3-4bcd-86ea-0134495aa2d5",
   "metadata": {
    "tags": []
   },
   "outputs": [
    {
     "name": "stdout",
     "output_type": "stream",
     "text": [
      "<tf.Variable 'UnreadVariable' shape=(3,) dtype=int32, numpy=array([3, 1, 4])>\n",
      "tf.Tensor([5 0 6], shape=(3,), dtype=int32)\n"
     ]
    }
   ],
   "source": [
    "print(w.assign([3, 1, 4], read_value=True))\n",
    "w.assign_add([2, -1, 2], read_value=False)\n",
    "print(w.value())"
   ]
  },
  {
   "cell_type": "code",
   "execution_count": 39,
   "id": "4016c80b-2adf-4082-8e51-498784373649",
   "metadata": {
    "tags": []
   },
   "outputs": [
    {
     "name": "stdout",
     "output_type": "stream",
     "text": [
      "[1.15235567 0.281034619 -0.000759395654]\n",
      "[[1.26234233 0.30785802 -0.000831876241]\n",
      " [-0.401079446 -0.464005411 0.717722535]]\n"
     ]
    }
   ],
   "source": [
    "tf.random.set_seed(1)\n",
    "rand_init = tf.keras.initializers.GlorotNormal()\n",
    "tf.print(rand_init(shape=(3,)))\n",
    "\n",
    "v = tf.Variable(rand_init(shape=(2, 3)))\n",
    "tf.print(v)"
   ]
  },
  {
   "cell_type": "code",
   "execution_count": 42,
   "id": "b301fbfc-4a61-47a9-9744-8286532c046f",
   "metadata": {
    "tags": []
   },
   "outputs": [
    {
     "name": "stdout",
     "output_type": "stream",
     "text": [
      "All variables: [TensorShape([2, 3]), TensorShape([1, 2])]\n",
      "Trainable variables: [TensorShape([2, 3])]\n"
     ]
    }
   ],
   "source": [
    "class MyModule(tf.Module):\n",
    "    def __init__(self):\n",
    "        rand_init = tf.keras.initializers.GlorotNormal()\n",
    "        self.w1 = tf.Variable(rand_init(shape=(2, 3)), trainable=True)\n",
    "        self.w2 = tf.Variable(rand_init(shape=(1, 2)), trainable=False)\n",
    "        \n",
    "m = MyModule()\n",
    "print('All variables:', [v.shape for v in m.variables])\n",
    "print('Trainable variables:', [v.shape for v in m.trainable_variables])"
   ]
  },
  {
   "cell_type": "code",
   "execution_count": 45,
   "id": "4d45c92b-4815-48b8-b7f0-9edfee5c72ae",
   "metadata": {},
   "outputs": [],
   "source": [
    "# Cannot define w inside compute_z\n",
    "w = tf.Variable(tf.random.uniform((3, 3)))\n",
    "\n",
    "@tf.function\n",
    "def compute_z(x):\n",
    "    return tf.matmul(w, x)"
   ]
  },
  {
   "cell_type": "code",
   "execution_count": 46,
   "id": "80be9f97-871a-4c76-8573-5b7ddc4182b3",
   "metadata": {
    "tags": []
   },
   "outputs": [
    {
     "name": "stdout",
     "output_type": "stream",
     "text": [
      "[[3.64191628]\n",
      " [1.69833195]\n",
      " [3.06276083]]\n"
     ]
    }
   ],
   "source": [
    "x = tf.constant([[1], [2], [3]], dtype=tf.float32)\n",
    "tf.print(compute_z(x))"
   ]
  }
 ],
 "metadata": {
  "kernelspec": {
   "display_name": "Python (tf_conda_env)",
   "language": "python",
   "name": "tf_conda_env"
  },
  "language_info": {
   "codemirror_mode": {
    "name": "ipython",
    "version": 3
   },
   "file_extension": ".py",
   "mimetype": "text/x-python",
   "name": "python",
   "nbconvert_exporter": "python",
   "pygments_lexer": "ipython3",
   "version": "3.9.18"
  }
 },
 "nbformat": 4,
 "nbformat_minor": 5
}
