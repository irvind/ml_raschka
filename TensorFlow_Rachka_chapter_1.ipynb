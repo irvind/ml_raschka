{
  "nbformat": 4,
  "nbformat_minor": 0,
  "metadata": {
    "colab": {
      "provenance": [],
      "gpuType": "T4",
      "authorship_tag": "ABX9TyNGPPhuUPpj9r112DoTkhFq"
    },
    "kernelspec": {
      "name": "python3",
      "display_name": "Python 3"
    },
    "language_info": {
      "name": "python"
    },
    "accelerator": "GPU"
  },
  "cells": [
    {
      "cell_type": "code",
      "execution_count": 7,
      "metadata": {
        "id": "wD1g25iEioZx",
        "colab": {
          "base_uri": "https://localhost:8080/"
        },
        "outputId": "113bacc6-fcf4-415d-e04c-e0c7c8ca0eda"
      },
      "outputs": [
        {
          "output_type": "stream",
          "name": "stdout",
          "text": [
            "<class 'tensorflow.python.framework.ops.EagerTensor'>\n",
            "tf.Tensor([1 2 3], shape=(3,), dtype=int32)\n",
            "<class 'tensorflow.python.framework.ops.EagerTensor'>\n",
            "tf.Tensor(\n",
            "[[1. 1. 1.]\n",
            " [1. 1. 1.]], shape=(2, 3), dtype=float32)\n",
            "[[1. 1. 1.]\n",
            " [1. 1. 1.]]\n"
          ]
        }
      ],
      "source": [
        "import numpy as np\n",
        "import tensorflow as tf\n",
        "\n",
        "a = np.array([1, 2, 3], dtype=np.int32)\n",
        "t_a = tf.convert_to_tensor(a)\n",
        "print(type(t_a))\n",
        "print(t_a)\n",
        "\n",
        "t_ones = tf.ones((2, 3))\n",
        "print(type(t_ones))\n",
        "print(t_ones)\n",
        "print(t_ones.numpy())"
      ]
    },
    {
      "cell_type": "code",
      "source": [
        "print(t_a.dtype)\n",
        "t_a_new = tf.cast(t_a, tf.int64)\n",
        "print(t_a_new.dtype)\n",
        "print(t_a_new)\n",
        "\n",
        "t_rand = tf.random.uniform(shape=(3, 5))\n",
        "print(t_rand)\n",
        "t_rand_transposed = tf.transpose(t_rand)\n",
        "print(t_rand_transposed)\n",
        "\n",
        "t_z = tf.zeros((30,))\n",
        "print(t_z)\n",
        "t_z_reshaped = tf.reshape(t_z, shape=(5, 6))\n",
        "print(t_z_reshaped)\n",
        "\n",
        "t_z2 = tf.zeros((1, 2, 1, 4, 1))\n",
        "print(t_z2)\n",
        "print(t_z2.shape)\n",
        "t_z2_squeezed = tf.squeeze(t_z2, axis=(2, 4))\n",
        "print(t_z2_squeezed)\n",
        "print(t_z2_squeezed.shape)"
      ],
      "metadata": {
        "colab": {
          "base_uri": "https://localhost:8080/"
        },
        "id": "uj1iiVu5np6w",
        "outputId": "e95f9d49-e771-4d10-a143-4b273cfffe4a"
      },
      "execution_count": 15,
      "outputs": [
        {
          "output_type": "stream",
          "name": "stdout",
          "text": [
            "<dtype: 'int32'>\n",
            "<dtype: 'int64'>\n",
            "tf.Tensor([1 2 3], shape=(3,), dtype=int64)\n",
            "tf.Tensor(\n",
            "[[0.6854638  0.06967592 0.7433882  0.8954433  0.05743754]\n",
            " [0.6591345  0.7636764  0.983201   0.5762546  0.16247094]\n",
            " [0.8504561  0.86690414 0.95841444 0.33428752 0.6215365 ]], shape=(3, 5), dtype=float32)\n",
            "tf.Tensor(\n",
            "[[0.6854638  0.6591345  0.8504561 ]\n",
            " [0.06967592 0.7636764  0.86690414]\n",
            " [0.7433882  0.983201   0.95841444]\n",
            " [0.8954433  0.5762546  0.33428752]\n",
            " [0.05743754 0.16247094 0.6215365 ]], shape=(5, 3), dtype=float32)\n",
            "tf.Tensor(\n",
            "[0. 0. 0. 0. 0. 0. 0. 0. 0. 0. 0. 0. 0. 0. 0. 0. 0. 0. 0. 0. 0. 0. 0. 0.\n",
            " 0. 0. 0. 0. 0. 0.], shape=(30,), dtype=float32)\n",
            "tf.Tensor(\n",
            "[[0. 0. 0. 0. 0. 0.]\n",
            " [0. 0. 0. 0. 0. 0.]\n",
            " [0. 0. 0. 0. 0. 0.]\n",
            " [0. 0. 0. 0. 0. 0.]\n",
            " [0. 0. 0. 0. 0. 0.]], shape=(5, 6), dtype=float32)\n",
            "tf.Tensor(\n",
            "[[[[[0.]\n",
            "    [0.]\n",
            "    [0.]\n",
            "    [0.]]]\n",
            "\n",
            "\n",
            "  [[[0.]\n",
            "    [0.]\n",
            "    [0.]\n",
            "    [0.]]]]], shape=(1, 2, 1, 4, 1), dtype=float32)\n",
            "(1, 2, 1, 4, 1)\n",
            "tf.Tensor(\n",
            "[[[0. 0. 0. 0.]\n",
            "  [0. 0. 0. 0.]]], shape=(1, 2, 4), dtype=float32)\n",
            "(1, 2, 4)\n"
          ]
        }
      ]
    }
  ]
}